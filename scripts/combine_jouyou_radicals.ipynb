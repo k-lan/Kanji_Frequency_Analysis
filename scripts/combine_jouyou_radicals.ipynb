{
 "cells": [
  {
   "cell_type": "code",
   "execution_count": 6,
   "metadata": {},
   "outputs": [
    {
     "name": "stdout",
     "output_type": "stream",
     "text": [
      "kanji_radicals_df columns: Index(['kanji', 'radical'], dtype='object')\n",
      "kanji_freq_df columns: Index(['kanji', 'frequency'], dtype='object')\n",
      "kanji_jlpt_df columns: Index(['kanji', 'JLPT_level'], dtype='object')\n",
      "After first merge: Index(['kanji', 'radical', 'frequency'], dtype='object')\n",
      "After second merge: Index(['kanji', 'radical', 'frequency', 'JLPT_level'], dtype='object')\n"
     ]
    }
   ],
   "source": [
    "import pandas as pd\n",
    "import json\n",
    "\n",
    "# Load the CSV file containing kanji with radicals\n",
    "kanji_radicals_df = pd.read_csv('joyo_kanji_with_radicals.csv', usecols=['kanji', 'radical'])\n",
    "print(\"kanji_radicals_df columns:\", kanji_radicals_df.columns)\n",
    "\n",
    "# Load the text file containing kanji frequency\n",
    "kanji_freq_df = pd.read_csv('kanji_freq_report.txt', sep='\\t', header=None, names=['frequency', 'kanji', 'col3', 'col4', 'col5', 'col6'])\n",
    "kanji_freq_df = kanji_freq_df[['kanji', 'frequency']]\n",
    "print(\"kanji_freq_df columns:\", kanji_freq_df.columns)\n",
    "\n",
    "# Load the JSON file containing kanji with JLPT levels\n",
    "with open('kanji_output.json') as f:\n",
    "    kanji_jlpt = json.load(f)\n",
    "\n",
    "# Transform the JSON into a DataFrame\n",
    "jlpt_data = []\n",
    "for level, kanjis in kanji_jlpt.items():\n",
    "    for kanji in kanjis:\n",
    "        jlpt_data.append({'kanji': kanji, 'JLPT_level': int(level)})\n",
    "kanji_jlpt_df = pd.DataFrame(jlpt_data)\n",
    "print(\"kanji_jlpt_df columns:\", kanji_jlpt_df.columns)\n",
    "\n",
    "# Merge the dataframes on the 'kanji' column\n",
    "merged_df = pd.merge(kanji_radicals_df, kanji_freq_df, on='kanji', how='left')\n",
    "print(\"After first merge:\", merged_df.columns)\n",
    "\n",
    "merged_df = pd.merge(merged_df, kanji_jlpt_df, on='kanji', how='left')\n",
    "print(\"After second merge:\", merged_df.columns)\n",
    "\n",
    "# Reorder the columns\n",
    "merged_df = merged_df[['kanji', 'radical', 'frequency', 'JLPT_level']]\n",
    "\n",
    "# Save the merged dataframe to a new CSV file\n",
    "merged_df.to_csv('combined_kanji_data.csv', index=False)\n"
   ]
  },
  {
   "cell_type": "code",
   "execution_count": null,
   "metadata": {},
   "outputs": [],
   "source": []
  }
 ],
 "metadata": {
  "kernelspec": {
   "display_name": "base",
   "language": "python",
   "name": "python3"
  },
  "language_info": {
   "codemirror_mode": {
    "name": "ipython",
    "version": 3
   },
   "file_extension": ".py",
   "mimetype": "text/x-python",
   "name": "python",
   "nbconvert_exporter": "python",
   "pygments_lexer": "ipython3",
   "version": "3.9.13"
  }
 },
 "nbformat": 4,
 "nbformat_minor": 2
}
